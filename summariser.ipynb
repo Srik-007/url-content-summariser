{
 "cells": [
  {
   "cell_type": "code",
   "execution_count": 19,
   "id": "440b1907",
   "metadata": {},
   "outputs": [],
   "source": [
    "import os\n",
    "from dotenv import load_dotenv\n",
    "load_dotenv()\n",
    "from dotenv import load_dotenv\n",
    "import os\n",
    "\n",
    "load_dotenv()\n",
    "os.environ[\"GROQ_API_KEY\"] = os.getenv(\"GROQ_API_KEY\")\n",
    "\n",
    "api_key=os.getenv(\"GROQ_API_KEY\")\n"
   ]
  },
  {
   "cell_type": "code",
   "execution_count": 20,
   "id": "6145a4b4",
   "metadata": {},
   "outputs": [
    {
     "data": {
      "text/plain": [
       "ChatGroq(client=<groq.resources.chat.completions.Completions object at 0x0000011931629C10>, async_client=<groq.resources.chat.completions.AsyncCompletions object at 0x000001193162B9E0>, model_name='deepseek-r1-distill-llama-70b', model_kwargs={}, groq_api_key=SecretStr('**********'))"
      ]
     },
     "execution_count": 20,
     "metadata": {},
     "output_type": "execute_result"
    }
   ],
   "source": [
    "from langchain_groq import ChatGroq\n",
    "llm=ChatGroq(api_key=api_key,model=\"deepseek-r1-distill-llama-70b\")\n",
    "llm"
   ]
  },
  {
   "cell_type": "code",
   "execution_count": 21,
   "id": "58c3bc0e",
   "metadata": {},
   "outputs": [],
   "source": [
    "from langchain.schema import(\n",
    "    AIMessage,\n",
    "    HumanMessage,\n",
    "    SystemMessage\n",
    ")"
   ]
  },
  {
   "cell_type": "code",
   "execution_count": 22,
   "id": "1585dbc0",
   "metadata": {},
   "outputs": [],
   "source": [
    "speech=\"\"\"Dear young minds,\n",
    "\n",
    "This nation is yours to shape. You are the architects of 21st-century India. Do not just aim for a job — aim to create jobs. Do not just seek comfort — seek challenge, for that is where the growth lies.\n",
    "\n",
    "You must dream. Dreams are not those that come while we sleep. Dreams are those that do not let us sleep.\n",
    "\n",
    "You must dream to transform India — into a nation that is not only strong in science and technology, but rich in compassion, morality, and courage.\n",
    "\n",
    "I have seen poverty. I have walked barefoot. I have sold newspapers to study. But I never gave up on my dreams — because dreams, when fueled by purpose and hard work, become reality.\n",
    "\n",
    "India needs youth like you — who are fearless, who question the status quo, and who take ownership not just of their careers, but of this country's future.\n",
    "\n",
    "\"You have to dream before your dreams can come true.\"\n",
    "\n",
    "Let your dream be bold.\n",
    "Let your ambition be boundless.\n",
    "And let your work be relentless.\n",
    "\n",
    "Because one day, when this country is led by dreamers like you, the world will not just look at India — they will learn from India.\"\"\"\n"
   ]
  },
  {
   "cell_type": "code",
   "execution_count": 23,
   "id": "d76956ab",
   "metadata": {},
   "outputs": [],
   "source": [
    "chat_message=[\n",
    "    SystemMessage(content=\"You are an expert model with an exceptional expertise in summarising speeches\"),\n",
    "    HumanMessage(content=f\"Please provide a short and concise summary of the following speech: \\n Text:{speech}\")\n",
    "]"
   ]
  },
  {
   "cell_type": "code",
   "execution_count": 24,
   "id": "21a24905",
   "metadata": {},
   "outputs": [
    {
     "data": {
      "text/plain": [
       "260"
      ]
     },
     "execution_count": 24,
     "metadata": {},
     "output_type": "execute_result"
    }
   ],
   "source": [
    "llm.get_num_tokens(speech)"
   ]
  },
  {
   "cell_type": "code",
   "execution_count": 25,
   "id": "2bd6faf6",
   "metadata": {},
   "outputs": [
    {
     "name": "stdout",
     "output_type": "stream",
     "text": [
      "Loaded GROQ_API_KEY: gsk_d ...\n",
      "Here's something cool:\n",
      "\n",
      "Did you know that there is a type of jellyfish that is immortal?!\n",
      "\n",
      "The Turritopsis dohrnii, also known as the \"immortal jellyfish,\" is a species of jellyfish that can transform its body into a younger state through a process called transdifferentiation. This means that it can essentially revert back to its polyp stage, which is the juvenile form of a jellyfish, and then grow back into an adult again. This process can be repeated indefinitely, making the Turritopsis dohrnii theoretically immortal!\n",
      "\n",
      "Isn't that just mind-blowing?\n",
      "\n",
      "What do you think? Want to hear more cool facts?\n"
     ]
    }
   ],
   "source": [
    "from dotenv import load_dotenv\n",
    "import os\n",
    "from langchain_groq import ChatGroq\n",
    "\n",
    "load_dotenv()\n",
    "\n",
    "print(\"Loaded GROQ_API_KEY:\", os.getenv(\"GROQ_API_KEY\")[:5], \"...\")  # just partial for debug\n",
    "\n",
    "llm = ChatGroq(\n",
    "    temperature=0.7,\n",
    "    model_name=\"llama3-70b-8192\"  # Groq-supported model\n",
    ")\n",
    "\n",
    "response = llm.invoke(\"Hello! Tell me something cool.\")\n",
    "print(response.content)\n"
   ]
  },
  {
   "cell_type": "code",
   "execution_count": 26,
   "id": "639d40b8",
   "metadata": {},
   "outputs": [
    {
     "data": {
      "text/plain": [
       "\"Here is a concise summary of the speech:\\n\\nThe speaker urges young Indians to be ambitious and dream big, aiming to create jobs and drive growth, rather than just seeking comfort. They should strive to transform India into a nation strong in science, technology, and values like compassion and courage. The speaker shares their own rags-to-riches story, emphasizing the power of purpose and hard work in achieving dreams. They call on the youth to be fearless, question the status quo, and take ownership of their careers and the country's future, promising that when they lead, India will become a model for the world.\""
      ]
     },
     "execution_count": 26,
     "metadata": {},
     "output_type": "execute_result"
    }
   ],
   "source": [
    "llm(chat_message).content"
   ]
  },
  {
   "cell_type": "code",
   "execution_count": 27,
   "id": "0f717b41",
   "metadata": {},
   "outputs": [
    {
     "data": {
      "text/plain": [
       "PromptTemplate(input_variables=['language', 'speech'], input_types={}, partial_variables={}, template='\\nWrite a summary of the following speech:\\nSpeech:{speech}\\nTranslate the precise summary into {language}\\n')"
      ]
     },
     "execution_count": 27,
     "metadata": {},
     "output_type": "execute_result"
    }
   ],
   "source": [
    "from langchain.chains import LLMChain\n",
    "from langchain import PromptTemplate\n",
    "generictemplate=\"\"\"\n",
    "Write a summary of the following speech:\n",
    "Speech:{speech}\n",
    "Translate the precise summary into {language}\n",
    "\"\"\"\n",
    "prompt=PromptTemplate(\n",
    "    input_variables=[\"speech\",\"language\"],\n",
    "    template=generictemplate\n",
    ")\n",
    "prompt"
   ]
  },
  {
   "cell_type": "code",
   "execution_count": 28,
   "id": "a5d3c448",
   "metadata": {},
   "outputs": [
    {
     "data": {
      "text/plain": [
       "'\\nWrite a summary of the following speech:\\nSpeech:Dear young minds,\\n\\nThis nation is yours to shape. You are the architects of 21st-century India. Do not just aim for a job — aim to create jobs. Do not just seek comfort — seek challenge, for that is where the growth lies.\\n\\nYou must dream. Dreams are not those that come while we sleep. Dreams are those that do not let us sleep.\\n\\nYou must dream to transform India — into a nation that is not only strong in science and technology, but rich in compassion, morality, and courage.\\n\\nI have seen poverty. I have walked barefoot. I have sold newspapers to study. But I never gave up on my dreams — because dreams, when fueled by purpose and hard work, become reality.\\n\\nIndia needs youth like you — who are fearless, who question the status quo, and who take ownership not just of their careers, but of this country\\'s future.\\n\\n\"You have to dream before your dreams can come true.\"\\n\\nLet your dream be bold.\\nLet your ambition be boundless.\\nAnd let your work be relentless.\\n\\nBecause one day, when this country is led by dreamers like you, the world will not just look at India — they will learn from India.\\nTranslate the precise summary into french\\n'"
      ]
     },
     "execution_count": 28,
     "metadata": {},
     "output_type": "execute_result"
    }
   ],
   "source": [
    "prompt.format(speech=speech, language=\"french\")"
   ]
  },
  {
   "cell_type": "code",
   "execution_count": 29,
   "id": "11dac0dd",
   "metadata": {},
   "outputs": [
    {
     "name": "stdout",
     "output_type": "stream",
     "text": [
      "Here is a summary of the speech:\n",
      "\n",
      "The speaker urges young people to take an active role in shaping India's future, encouraging them to dream big and strive for more than just a comfortable life. They share their own experiences of overcoming poverty and hardship, emphasizing the importance of hard work and purpose in achieving one's goals. The speaker calls on the youth to be fearless, question the status quo, and take ownership of their country's future. They conclude by inspiring the young minds to aim high, work tirelessly, and dream boldly, envisioning a future where India becomes a global leader and a model for others to follow.\n",
      "\n",
      "Translation of the summary into English (since the original speech is already in English, there is no need for translation):\n",
      "\n",
      "No changes needed! The summary is already in English.\n"
     ]
    }
   ],
   "source": [
    "llm_chain=LLMChain(llm=llm,prompt=prompt)\n",
    "summary=llm_chain.run({'speech':speech,'language':\"english\"})\n",
    "import re\n",
    "\n",
    "def remove_think_block(text):\n",
    "    return re.sub(r\"<think>.*?</think>\", \"\", text, flags=re.DOTALL).strip()\n",
    "\n",
    "summary = remove_think_block(summary)\n",
    "print(summary)"
   ]
  },
  {
   "cell_type": "code",
   "execution_count": 30,
   "id": "6ff58a29",
   "metadata": {},
   "outputs": [
    {
     "data": {
      "text/plain": [
       "[Document(metadata={'producer': 'Adobe PDF Library 10.0', 'creator': 'Acrobat PDFMaker 10.1 for Word', 'creationdate': '2015-02-25T11:08:01-05:00', 'author': 'Sasha Rolon-Pereira', 'moddate': '2015-02-25T11:08:44-05:00', 'title': 'Martin Luther King Jr.pdf', 'source': 'speech.pdf', 'total_pages': 2, 'page': 0, 'page_label': '1'}, page_content='©2014 The Gilder Lehrman Institute of American History \\nwww.gilderlehrman.org \\n“I Have a Dream” Speech by the Rev. Martin Luther King Jr. at the “March on Washington,” \\n1963 (excerpts ) \\n \\nI am happy to join with you today in what will go down in history as the greatest demonstration for \\nfreedom in the history of our nation. \\nFive score years ago a great American in whose symbolic shadow we stand today signed the \\nEmancipation Proclamation. This momentous decree is a great beacon light of hope to millions of Negro \\nslaves who had been seared in the flames of withering injustice. It came as a joyous daybreak to end the \\nlong night of their captivity. But 100 years later the Negro still is not free. One hundred years later the \\nlife of the Negro is still badly crippled by the manacles of segregation and the chains of discrimination. \\nOne hundred years later the Negro lives on a lonely island of poverty in the midst of a vast ocean of \\nmaterial prosperity. One hundred years later the Negro is still languished in the corners of American \\nsociety and finds himself in exile in his own land. So we’ve come here today to dramatize a shameful \\ncondition. \\nIn a sense we’ve come to our nation’s capital to cash a check. When the architects of our Republic wrote \\nthe magnificent words of the Constitution and the Declaration of Independence, they were signing a \\npromissory note to which every American was to fall heir. This note was a promise that all men—yes, \\nblack men as well as white men—would be guaranteed the unalienable rights of life, liberty and the \\npursuit of happiness. . . . \\nWe must forever conduct our struggle on the high plane of dignity and discipline. We must not allow our \\ncreative protests to degenerate into physical violence. . . . The marvelous new militancy which has \\nengulfed the Negro community must not lead us to distrust all white people, for many of our white \\nbrothers, as evidenced by their presence here today, have come to realize that their destiny is tied up \\nwith our destiny. \\n. . . We cannot walk alone. And as we walk we must make the pledge that we shall always march ahead. \\nWe cannot turn back. There are those who are asking the devotees of civil rights, “When will you be \\nsatisfied?” We can never be satisfied as long as the Negro is the victim of the unspeakable horrors of \\npolice brutality. \\nWe can never be satisfied as long as our bodies, heavy with the fatigue of travel, cannot gain lodging in \\nthe motels of the highways and the hotels of the cities. \\nWe cannot be satisfied as long as the Negro’s basic mobility is from a smaller ghetto to a larger one. We \\ncan never be satisfied as long as our children are stripped of their adulthood and robbed of their dignity \\nby signs stating “For Whites Only.” \\nWe cannot be satisfied as long as the Negro in Mississippi cannot vote and the Negro in New York \\nbelieves he has nothing for which to vote. \\nNo, no, we are not satisfied, and we will not be satisfied until justice rolls down like waters and \\nrighteousness like a mighty stream. . . . \\nI say to you today, my friends, though, even though we face the difficulties of today and tomorrow, I still'),\n",
       " Document(metadata={'producer': 'Adobe PDF Library 10.0', 'creator': 'Acrobat PDFMaker 10.1 for Word', 'creationdate': '2015-02-25T11:08:01-05:00', 'author': 'Sasha Rolon-Pereira', 'moddate': '2015-02-25T11:08:44-05:00', 'title': 'Martin Luther King Jr.pdf', 'source': 'speech.pdf', 'total_pages': 2, 'page': 1, 'page_label': '2'}, page_content='©2014 The Gilder Lehrman Institute of American History \\nwww.gilderlehrman.org \\nhave a dream. It is a dream deeply rooted in the American dream. I have a dream that one day this \\nnation will rise up, live out the true meaning of its creed: “We hold these truths to be self-evident, that \\nall men are created equal.” \\nI have a dream that one day on the red hills of Georgia sons of former slaves and the sons of former \\nslave-owners will be able to sit down together at the table of brotherhood. I have a dream that one day \\neven the state of Mississippi, a state sweltering with the heat of injustice, sweltering with the heat of \\noppression, will be transformed into an oasis of freedom and justice. \\nI have a dream that my four little children will one day live in a nation where they will not be judged by \\nthe color of their skin but by the content of their character. I have a dream . . . I have a dream that one \\nday in Alabama, with its vicious racists, with its governor having his lips dripping with the words of \\ninterposition and nullification, one day right there in Alabama little black boys and black girls will be able \\nto join hands with little white boys and white girls as sisters and brothers. \\nI have a dream today . . . \\nThis will be the day when all of God’s children will be able to sing with new meaning. “My country, ’tis of \\nthee, sweet land of liberty, of thee I sing. Land where my fathers died, land of the pilgrim’s pride, from \\nevery mountain side, let freedom ring.” And if America is to be a great nation, this must become true. So \\nlet freedom ring from the prodigious hilltops of New Hampshire. Let freedom ring from the mighty \\nmountains of New York. Let freedom ring from the heightening Alleghenies of Pennsylvania. Let \\nfreedom ring from the snowcapped Rockies of Colorado. Let freedom ring from the curvaceous slopes of \\nCalifornia. \\nBut not only that. Let freedom ring from Stone Mountain of Georgia. Let freedom ring from Lookout \\nMountain of Tennessee. Let freedom ring from every hill and molehill of Mississippi, from every \\nmountain side. Let freedom ring . . . \\nWhen we allow freedom to ring—when we let it ring from every city and every hamlet, from every state \\nand every city, we will be able to speed up that day when all of God’s children, black men and white \\nmen, Jews and Gentiles, Protestants and Catholics, will be able to join hands and sing in the words of the \\nold Negro spiritual, “Free at last, Free at last, Great God a-mighty, We are free at last.” \\n \\n \\nReprinted by arrangement with The Heirs to the Estate of Martin Luther King Jr., c/o Writers House as the \\nproprietor New York, NY. Copyright: © 1963 Dr. Martin Luther King Jr. © renewed 1991 Coretta Scott King.')]"
      ]
     },
     "execution_count": 30,
     "metadata": {},
     "output_type": "execute_result"
    }
   ],
   "source": [
    "from langchain_community.document_loaders import PyPDFLoader\n",
    "loader1= PyPDFLoader(\"book.pdf\")\n",
    "loader2= PyPDFLoader(\"speech.pdf\")\n",
    "speech=loader2.load_and_split()\n",
    "speech"
   ]
  },
  {
   "cell_type": "code",
   "execution_count": 31,
   "id": "7941882f",
   "metadata": {},
   "outputs": [],
   "source": [
    "template=\"\"\"\n",
    "Write a concise and inofrmative summary of the following speech,\n",
    "speech:{text}\n",
    "\"\"\"\n",
    "prompt=PromptTemplate(input_variable=[\"text\"],template=template)"
   ]
  },
  {
   "cell_type": "code",
   "execution_count": 32,
   "id": "5a8840c2",
   "metadata": {},
   "outputs": [
    {
     "name": "stdout",
     "output_type": "stream",
     "text": [
      "\n",
      "\n",
      "\u001b[1m> Entering new StuffDocumentsChain chain...\u001b[0m\n",
      "\n",
      "\n",
      "\u001b[1m> Entering new LLMChain chain...\u001b[0m\n",
      "Prompt after formatting:\n",
      "\u001b[32;1m\u001b[1;3m\n",
      "Write a concise and inofrmative summary of the following speech,\n",
      "speech:©2014 The Gilder Lehrman Institute of American History \n",
      "www.gilderlehrman.org \n",
      "“I Have a Dream” Speech by the Rev. Martin Luther King Jr. at the “March on Washington,” \n",
      "1963 (excerpts ) \n",
      " \n",
      "I am happy to join with you today in what will go down in history as the greatest demonstration for \n",
      "freedom in the history of our nation. \n",
      "Five score years ago a great American in whose symbolic shadow we stand today signed the \n",
      "Emancipation Proclamation. This momentous decree is a great beacon light of hope to millions of Negro \n",
      "slaves who had been seared in the flames of withering injustice. It came as a joyous daybreak to end the \n",
      "long night of their captivity. But 100 years later the Negro still is not free. One hundred years later the \n",
      "life of the Negro is still badly crippled by the manacles of segregation and the chains of discrimination. \n",
      "One hundred years later the Negro lives on a lonely island of poverty in the midst of a vast ocean of \n",
      "material prosperity. One hundred years later the Negro is still languished in the corners of American \n",
      "society and finds himself in exile in his own land. So we’ve come here today to dramatize a shameful \n",
      "condition. \n",
      "In a sense we’ve come to our nation’s capital to cash a check. When the architects of our Republic wrote \n",
      "the magnificent words of the Constitution and the Declaration of Independence, they were signing a \n",
      "promissory note to which every American was to fall heir. This note was a promise that all men—yes, \n",
      "black men as well as white men—would be guaranteed the unalienable rights of life, liberty and the \n",
      "pursuit of happiness. . . . \n",
      "We must forever conduct our struggle on the high plane of dignity and discipline. We must not allow our \n",
      "creative protests to degenerate into physical violence. . . . The marvelous new militancy which has \n",
      "engulfed the Negro community must not lead us to distrust all white people, for many of our white \n",
      "brothers, as evidenced by their presence here today, have come to realize that their destiny is tied up \n",
      "with our destiny. \n",
      ". . . We cannot walk alone. And as we walk we must make the pledge that we shall always march ahead. \n",
      "We cannot turn back. There are those who are asking the devotees of civil rights, “When will you be \n",
      "satisfied?” We can never be satisfied as long as the Negro is the victim of the unspeakable horrors of \n",
      "police brutality. \n",
      "We can never be satisfied as long as our bodies, heavy with the fatigue of travel, cannot gain lodging in \n",
      "the motels of the highways and the hotels of the cities. \n",
      "We cannot be satisfied as long as the Negro’s basic mobility is from a smaller ghetto to a larger one. We \n",
      "can never be satisfied as long as our children are stripped of their adulthood and robbed of their dignity \n",
      "by signs stating “For Whites Only.” \n",
      "We cannot be satisfied as long as the Negro in Mississippi cannot vote and the Negro in New York \n",
      "believes he has nothing for which to vote. \n",
      "No, no, we are not satisfied, and we will not be satisfied until justice rolls down like waters and \n",
      "righteousness like a mighty stream. . . . \n",
      "I say to you today, my friends, though, even though we face the difficulties of today and tomorrow, I still\n",
      "\n",
      "©2014 The Gilder Lehrman Institute of American History \n",
      "www.gilderlehrman.org \n",
      "have a dream. It is a dream deeply rooted in the American dream. I have a dream that one day this \n",
      "nation will rise up, live out the true meaning of its creed: “We hold these truths to be self-evident, that \n",
      "all men are created equal.” \n",
      "I have a dream that one day on the red hills of Georgia sons of former slaves and the sons of former \n",
      "slave-owners will be able to sit down together at the table of brotherhood. I have a dream that one day \n",
      "even the state of Mississippi, a state sweltering with the heat of injustice, sweltering with the heat of \n",
      "oppression, will be transformed into an oasis of freedom and justice. \n",
      "I have a dream that my four little children will one day live in a nation where they will not be judged by \n",
      "the color of their skin but by the content of their character. I have a dream . . . I have a dream that one \n",
      "day in Alabama, with its vicious racists, with its governor having his lips dripping with the words of \n",
      "interposition and nullification, one day right there in Alabama little black boys and black girls will be able \n",
      "to join hands with little white boys and white girls as sisters and brothers. \n",
      "I have a dream today . . . \n",
      "This will be the day when all of God’s children will be able to sing with new meaning. “My country, ’tis of \n",
      "thee, sweet land of liberty, of thee I sing. Land where my fathers died, land of the pilgrim’s pride, from \n",
      "every mountain side, let freedom ring.” And if America is to be a great nation, this must become true. So \n",
      "let freedom ring from the prodigious hilltops of New Hampshire. Let freedom ring from the mighty \n",
      "mountains of New York. Let freedom ring from the heightening Alleghenies of Pennsylvania. Let \n",
      "freedom ring from the snowcapped Rockies of Colorado. Let freedom ring from the curvaceous slopes of \n",
      "California. \n",
      "But not only that. Let freedom ring from Stone Mountain of Georgia. Let freedom ring from Lookout \n",
      "Mountain of Tennessee. Let freedom ring from every hill and molehill of Mississippi, from every \n",
      "mountain side. Let freedom ring . . . \n",
      "When we allow freedom to ring—when we let it ring from every city and every hamlet, from every state \n",
      "and every city, we will be able to speed up that day when all of God’s children, black men and white \n",
      "men, Jews and Gentiles, Protestants and Catholics, will be able to join hands and sing in the words of the \n",
      "old Negro spiritual, “Free at last, Free at last, Great God a-mighty, We are free at last.” \n",
      " \n",
      " \n",
      "Reprinted by arrangement with The Heirs to the Estate of Martin Luther King Jr., c/o Writers House as the \n",
      "proprietor New York, NY. Copyright: © 1963 Dr. Martin Luther King Jr. © renewed 1991 Coretta Scott King.\n",
      "\u001b[0m\n",
      "\n",
      "\u001b[1m> Finished chain.\u001b[0m\n",
      "\n",
      "\u001b[1m> Finished chain.\u001b[0m\n"
     ]
    },
    {
     "data": {
      "text/plain": [
       "'Here is a concise and informative summary of the \"I Have a Dream\" speech by Rev. Martin Luther King Jr.:\\n\\nIn this iconic speech, delivered at the March on Washington in 1963, Martin Luther King Jr. calls for civil rights and racial equality in the United States. King notes that 100 years after the Emancipation Proclamation, African Americans are still not free, citing segregation, discrimination, and poverty. He argues that the Constitution and Declaration of Independence guarantee equal rights for all, and that it\\'s time to \"cash the check\" of freedom and equality. King emphasizes the need for nonviolent protest and unity among all people, regardless of race. He famously declares his dream of a future where people are judged by their character, not their skin color, and where freedom and justice reign across the nation. King concludes by envisioning a future where all people can join hands and sing of freedom, and where the United States becomes a truly great nation.'"
      ]
     },
     "execution_count": 32,
     "metadata": {},
     "output_type": "execute_result"
    }
   ],
   "source": [
    "from langchain.chains.summarize import load_summarize_chain\n",
    "chain=load_summarize_chain(llm=llm,chain_type=\"stuff\",verbose=True,prompt=prompt)\n",
    "output_summary=chain.run(speech)\n",
    "output_summary=remove_think_block(output_summary)\n",
    "output_summary"
   ]
  },
  {
   "cell_type": "code",
   "execution_count": 33,
   "id": "0346dbdc",
   "metadata": {},
   "outputs": [
    {
     "data": {
      "text/plain": [
       "[Document(metadata={'producer': 'Adobe PDF Library 10.0', 'creator': 'Acrobat PDFMaker 10.1 for Word', 'creationdate': '2015-02-25T11:08:01-05:00', 'author': 'Sasha Rolon-Pereira', 'moddate': '2015-02-25T11:08:44-05:00', 'title': 'Martin Luther King Jr.pdf', 'source': 'speech.pdf', 'total_pages': 2, 'page': 0, 'page_label': '1'}, page_content='©2014 The Gilder Lehrman Institute of American History \\nwww.gilderlehrman.org \\n“I Have a Dream” Speech by the Rev. Martin Luther King Jr. at the “March on Washington,” \\n1963 (excerpts ) \\n \\nI am happy to join with you today in what will go down in history as the greatest demonstration for \\nfreedom in the history of our nation. \\nFive score years ago a great American in whose symbolic shadow we stand today signed the \\nEmancipation Proclamation. This momentous decree is a great beacon light of hope to millions of Negro \\nslaves who had been seared in the flames of withering injustice. It came as a joyous daybreak to end the \\nlong night of their captivity. But 100 years later the Negro still is not free. One hundred years later the \\nlife of the Negro is still badly crippled by the manacles of segregation and the chains of discrimination. \\nOne hundred years later the Negro lives on a lonely island of poverty in the midst of a vast ocean of \\nmaterial prosperity. One hundred years later the Negro is still languished in the corners of American \\nsociety and finds himself in exile in his own land. So we’ve come here today to dramatize a shameful \\ncondition. \\nIn a sense we’ve come to our nation’s capital to cash a check. When the architects of our Republic wrote \\nthe magnificent words of the Constitution and the Declaration of Independence, they were signing a \\npromissory note to which every American was to fall heir. This note was a promise that all men—yes, \\nblack men as well as white men—would be guaranteed the unalienable rights of life, liberty and the \\npursuit of happiness. . . . \\nWe must forever conduct our struggle on the high plane of dignity and discipline. We must not allow our \\ncreative protests to degenerate into physical violence. . . . The marvelous new militancy which has \\nengulfed the Negro community must not lead us to distrust all white people, for many of our white'),\n",
       " Document(metadata={'producer': 'Adobe PDF Library 10.0', 'creator': 'Acrobat PDFMaker 10.1 for Word', 'creationdate': '2015-02-25T11:08:01-05:00', 'author': 'Sasha Rolon-Pereira', 'moddate': '2015-02-25T11:08:44-05:00', 'title': 'Martin Luther King Jr.pdf', 'source': 'speech.pdf', 'total_pages': 2, 'page': 0, 'page_label': '1'}, page_content='material prosperity. One hundred years later the Negro is still languished in the corners of American \\nsociety and finds himself in exile in his own land. So we’ve come here today to dramatize a shameful \\ncondition. \\nIn a sense we’ve come to our nation’s capital to cash a check. When the architects of our Republic wrote \\nthe magnificent words of the Constitution and the Declaration of Independence, they were signing a \\npromissory note to which every American was to fall heir. This note was a promise that all men—yes, \\nblack men as well as white men—would be guaranteed the unalienable rights of life, liberty and the \\npursuit of happiness. . . . \\nWe must forever conduct our struggle on the high plane of dignity and discipline. We must not allow our \\ncreative protests to degenerate into physical violence. . . . The marvelous new militancy which has \\nengulfed the Negro community must not lead us to distrust all white people, for many of our white \\nbrothers, as evidenced by their presence here today, have come to realize that their destiny is tied up \\nwith our destiny. \\n. . . We cannot walk alone. And as we walk we must make the pledge that we shall always march ahead. \\nWe cannot turn back. There are those who are asking the devotees of civil rights, “When will you be \\nsatisfied?” We can never be satisfied as long as the Negro is the victim of the unspeakable horrors of \\npolice brutality. \\nWe can never be satisfied as long as our bodies, heavy with the fatigue of travel, cannot gain lodging in \\nthe motels of the highways and the hotels of the cities. \\nWe cannot be satisfied as long as the Negro’s basic mobility is from a smaller ghetto to a larger one. We \\ncan never be satisfied as long as our children are stripped of their adulthood and robbed of their dignity \\nby signs stating “For Whites Only.” \\nWe cannot be satisfied as long as the Negro in Mississippi cannot vote and the Negro in New York \\nbelieves he has nothing for which to vote.'),\n",
       " Document(metadata={'producer': 'Adobe PDF Library 10.0', 'creator': 'Acrobat PDFMaker 10.1 for Word', 'creationdate': '2015-02-25T11:08:01-05:00', 'author': 'Sasha Rolon-Pereira', 'moddate': '2015-02-25T11:08:44-05:00', 'title': 'Martin Luther King Jr.pdf', 'source': 'speech.pdf', 'total_pages': 2, 'page': 0, 'page_label': '1'}, page_content='with our destiny. \\n. . . We cannot walk alone. And as we walk we must make the pledge that we shall always march ahead. \\nWe cannot turn back. There are those who are asking the devotees of civil rights, “When will you be \\nsatisfied?” We can never be satisfied as long as the Negro is the victim of the unspeakable horrors of \\npolice brutality. \\nWe can never be satisfied as long as our bodies, heavy with the fatigue of travel, cannot gain lodging in \\nthe motels of the highways and the hotels of the cities. \\nWe cannot be satisfied as long as the Negro’s basic mobility is from a smaller ghetto to a larger one. We \\ncan never be satisfied as long as our children are stripped of their adulthood and robbed of their dignity \\nby signs stating “For Whites Only.” \\nWe cannot be satisfied as long as the Negro in Mississippi cannot vote and the Negro in New York \\nbelieves he has nothing for which to vote. \\nNo, no, we are not satisfied, and we will not be satisfied until justice rolls down like waters and \\nrighteousness like a mighty stream. . . . \\nI say to you today, my friends, though, even though we face the difficulties of today and tomorrow, I still'),\n",
       " Document(metadata={'producer': 'Adobe PDF Library 10.0', 'creator': 'Acrobat PDFMaker 10.1 for Word', 'creationdate': '2015-02-25T11:08:01-05:00', 'author': 'Sasha Rolon-Pereira', 'moddate': '2015-02-25T11:08:44-05:00', 'title': 'Martin Luther King Jr.pdf', 'source': 'speech.pdf', 'total_pages': 2, 'page': 1, 'page_label': '2'}, page_content='©2014 The Gilder Lehrman Institute of American History \\nwww.gilderlehrman.org \\nhave a dream. It is a dream deeply rooted in the American dream. I have a dream that one day this \\nnation will rise up, live out the true meaning of its creed: “We hold these truths to be self-evident, that \\nall men are created equal.” \\nI have a dream that one day on the red hills of Georgia sons of former slaves and the sons of former \\nslave-owners will be able to sit down together at the table of brotherhood. I have a dream that one day \\neven the state of Mississippi, a state sweltering with the heat of injustice, sweltering with the heat of \\noppression, will be transformed into an oasis of freedom and justice. \\nI have a dream that my four little children will one day live in a nation where they will not be judged by \\nthe color of their skin but by the content of their character. I have a dream . . . I have a dream that one \\nday in Alabama, with its vicious racists, with its governor having his lips dripping with the words of \\ninterposition and nullification, one day right there in Alabama little black boys and black girls will be able \\nto join hands with little white boys and white girls as sisters and brothers. \\nI have a dream today . . . \\nThis will be the day when all of God’s children will be able to sing with new meaning. “My country, ’tis of \\nthee, sweet land of liberty, of thee I sing. Land where my fathers died, land of the pilgrim’s pride, from \\nevery mountain side, let freedom ring.” And if America is to be a great nation, this must become true. So \\nlet freedom ring from the prodigious hilltops of New Hampshire. Let freedom ring from the mighty \\nmountains of New York. Let freedom ring from the heightening Alleghenies of Pennsylvania. Let \\nfreedom ring from the snowcapped Rockies of Colorado. Let freedom ring from the curvaceous slopes of \\nCalifornia. \\nBut not only that. Let freedom ring from Stone Mountain of Georgia. Let freedom ring from Lookout'),\n",
       " Document(metadata={'producer': 'Adobe PDF Library 10.0', 'creator': 'Acrobat PDFMaker 10.1 for Word', 'creationdate': '2015-02-25T11:08:01-05:00', 'author': 'Sasha Rolon-Pereira', 'moddate': '2015-02-25T11:08:44-05:00', 'title': 'Martin Luther King Jr.pdf', 'source': 'speech.pdf', 'total_pages': 2, 'page': 1, 'page_label': '2'}, page_content='interposition and nullification, one day right there in Alabama little black boys and black girls will be able \\nto join hands with little white boys and white girls as sisters and brothers. \\nI have a dream today . . . \\nThis will be the day when all of God’s children will be able to sing with new meaning. “My country, ’tis of \\nthee, sweet land of liberty, of thee I sing. Land where my fathers died, land of the pilgrim’s pride, from \\nevery mountain side, let freedom ring.” And if America is to be a great nation, this must become true. So \\nlet freedom ring from the prodigious hilltops of New Hampshire. Let freedom ring from the mighty \\nmountains of New York. Let freedom ring from the heightening Alleghenies of Pennsylvania. Let \\nfreedom ring from the snowcapped Rockies of Colorado. Let freedom ring from the curvaceous slopes of \\nCalifornia. \\nBut not only that. Let freedom ring from Stone Mountain of Georgia. Let freedom ring from Lookout \\nMountain of Tennessee. Let freedom ring from every hill and molehill of Mississippi, from every \\nmountain side. Let freedom ring . . . \\nWhen we allow freedom to ring—when we let it ring from every city and every hamlet, from every state \\nand every city, we will be able to speed up that day when all of God’s children, black men and white \\nmen, Jews and Gentiles, Protestants and Catholics, will be able to join hands and sing in the words of the \\nold Negro spiritual, “Free at last, Free at last, Great God a-mighty, We are free at last.” \\n \\n \\nReprinted by arrangement with The Heirs to the Estate of Martin Luther King Jr., c/o Writers House as the \\nproprietor New York, NY. Copyright: © 1963 Dr. Martin Luther King Jr. © renewed 1991 Coretta Scott King.')]"
      ]
     },
     "execution_count": 33,
     "metadata": {},
     "output_type": "execute_result"
    }
   ],
   "source": [
    "book=loader2.load_and_split()\n",
    "from langchain.text_splitter import RecursiveCharacterTextSplitter\n",
    "final_docs=RecursiveCharacterTextSplitter(chunk_size=2000,chunk_overlap=1000).split_documents(book)\n",
    "final_docs"
   ]
  },
  {
   "cell_type": "code",
   "execution_count": 34,
   "id": "57e6aa4a",
   "metadata": {},
   "outputs": [],
   "source": [
    "chunk_prompt=\"\"\"\n",
    "Write a concise and informative summary of the following speech,\n",
    "Speech:'{text}'\n",
    "Summary:\n",
    "\"\"\"\n",
    "map_prompt_template=PromptTemplate(input_variables=['text'],template=chunk_prompt)\n"
   ]
  },
  {
   "cell_type": "code",
   "execution_count": 35,
   "id": "e47d8bd8",
   "metadata": {},
   "outputs": [],
   "source": [
    "final_prompt='''\n",
    "Provide the final summary of the entire book. List out the number of chapters in integral form and mention the most recurring characters in the book.\n",
    "Book:{text}\n",
    "'''\n",
    "final_prompt_template=PromptTemplate(input_variable=['text'],template=final_prompt)"
   ]
  },
  {
   "cell_type": "code",
   "execution_count": 37,
   "id": "a38ce848",
   "metadata": {},
   "outputs": [
    {
     "name": "stdout",
     "output_type": "stream",
     "text": [
      "\n",
      "\n",
      "\u001b[1m> Entering new MapReduceDocumentsChain chain...\u001b[0m\n",
      "\n",
      "\n",
      "\u001b[1m> Entering new LLMChain chain...\u001b[0m\n",
      "Prompt after formatting:\n",
      "\u001b[32;1m\u001b[1;3m\n",
      "Write a concise and informative summary of the following speech,\n",
      "Speech:'©2014 The Gilder Lehrman Institute of American History \n",
      "www.gilderlehrman.org \n",
      "“I Have a Dream” Speech by the Rev. Martin Luther King Jr. at the “March on Washington,” \n",
      "1963 (excerpts ) \n",
      " \n",
      "I am happy to join with you today in what will go down in history as the greatest demonstration for \n",
      "freedom in the history of our nation. \n",
      "Five score years ago a great American in whose symbolic shadow we stand today signed the \n",
      "Emancipation Proclamation. This momentous decree is a great beacon light of hope to millions of Negro \n",
      "slaves who had been seared in the flames of withering injustice. It came as a joyous daybreak to end the \n",
      "long night of their captivity. But 100 years later the Negro still is not free. One hundred years later the \n",
      "life of the Negro is still badly crippled by the manacles of segregation and the chains of discrimination. \n",
      "One hundred years later the Negro lives on a lonely island of poverty in the midst of a vast ocean of \n",
      "material prosperity. One hundred years later the Negro is still languished in the corners of American \n",
      "society and finds himself in exile in his own land. So we’ve come here today to dramatize a shameful \n",
      "condition. \n",
      "In a sense we’ve come to our nation’s capital to cash a check. When the architects of our Republic wrote \n",
      "the magnificent words of the Constitution and the Declaration of Independence, they were signing a \n",
      "promissory note to which every American was to fall heir. This note was a promise that all men—yes, \n",
      "black men as well as white men—would be guaranteed the unalienable rights of life, liberty and the \n",
      "pursuit of happiness. . . . \n",
      "We must forever conduct our struggle on the high plane of dignity and discipline. We must not allow our \n",
      "creative protests to degenerate into physical violence. . . . The marvelous new militancy which has \n",
      "engulfed the Negro community must not lead us to distrust all white people, for many of our white \n",
      "brothers, as evidenced by their presence here today, have come to realize that their destiny is tied up \n",
      "with our destiny. \n",
      ". . . We cannot walk alone. And as we walk we must make the pledge that we shall always march ahead. \n",
      "We cannot turn back. There are those who are asking the devotees of civil rights, “When will you be \n",
      "satisfied?” We can never be satisfied as long as the Negro is the victim of the unspeakable horrors of \n",
      "police brutality. \n",
      "We can never be satisfied as long as our bodies, heavy with the fatigue of travel, cannot gain lodging in \n",
      "the motels of the highways and the hotels of the cities. \n",
      "We cannot be satisfied as long as the Negro’s basic mobility is from a smaller ghetto to a larger one. We \n",
      "can never be satisfied as long as our children are stripped of their adulthood and robbed of their dignity \n",
      "by signs stating “For Whites Only.” \n",
      "We cannot be satisfied as long as the Negro in Mississippi cannot vote and the Negro in New York \n",
      "believes he has nothing for which to vote. \n",
      "No, no, we are not satisfied, and we will not be satisfied until justice rolls down like waters and \n",
      "righteousness like a mighty stream. . . . \n",
      "I say to you today, my friends, though, even though we face the difficulties of today and tomorrow, I still'\n",
      "Summary:\n",
      "\u001b[0m\n",
      "Prompt after formatting:\n",
      "\u001b[32;1m\u001b[1;3m\n",
      "Write a concise and informative summary of the following speech,\n",
      "Speech:'©2014 The Gilder Lehrman Institute of American History \n",
      "www.gilderlehrman.org \n",
      "have a dream. It is a dream deeply rooted in the American dream. I have a dream that one day this \n",
      "nation will rise up, live out the true meaning of its creed: “We hold these truths to be self-evident, that \n",
      "all men are created equal.” \n",
      "I have a dream that one day on the red hills of Georgia sons of former slaves and the sons of former \n",
      "slave-owners will be able to sit down together at the table of brotherhood. I have a dream that one day \n",
      "even the state of Mississippi, a state sweltering with the heat of injustice, sweltering with the heat of \n",
      "oppression, will be transformed into an oasis of freedom and justice. \n",
      "I have a dream that my four little children will one day live in a nation where they will not be judged by \n",
      "the color of their skin but by the content of their character. I have a dream . . . I have a dream that one \n",
      "day in Alabama, with its vicious racists, with its governor having his lips dripping with the words of \n",
      "interposition and nullification, one day right there in Alabama little black boys and black girls will be able \n",
      "to join hands with little white boys and white girls as sisters and brothers. \n",
      "I have a dream today . . . \n",
      "This will be the day when all of God’s children will be able to sing with new meaning. “My country, ’tis of \n",
      "thee, sweet land of liberty, of thee I sing. Land where my fathers died, land of the pilgrim’s pride, from \n",
      "every mountain side, let freedom ring.” And if America is to be a great nation, this must become true. So \n",
      "let freedom ring from the prodigious hilltops of New Hampshire. Let freedom ring from the mighty \n",
      "mountains of New York. Let freedom ring from the heightening Alleghenies of Pennsylvania. Let \n",
      "freedom ring from the snowcapped Rockies of Colorado. Let freedom ring from the curvaceous slopes of \n",
      "California. \n",
      "But not only that. Let freedom ring from Stone Mountain of Georgia. Let freedom ring from Lookout \n",
      "Mountain of Tennessee. Let freedom ring from every hill and molehill of Mississippi, from every \n",
      "mountain side. Let freedom ring . . . \n",
      "When we allow freedom to ring—when we let it ring from every city and every hamlet, from every state \n",
      "and every city, we will be able to speed up that day when all of God’s children, black men and white \n",
      "men, Jews and Gentiles, Protestants and Catholics, will be able to join hands and sing in the words of the \n",
      "old Negro spiritual, “Free at last, Free at last, Great God a-mighty, We are free at last.” \n",
      " \n",
      " \n",
      "Reprinted by arrangement with The Heirs to the Estate of Martin Luther King Jr., c/o Writers House as the \n",
      "proprietor New York, NY. Copyright: © 1963 Dr. Martin Luther King Jr. © renewed 1991 Coretta Scott King.'\n",
      "Summary:\n",
      "\u001b[0m\n",
      "\n",
      "\u001b[1m> Finished chain.\u001b[0m\n",
      "\n",
      "\n",
      "\u001b[1m> Entering new LLMChain chain...\u001b[0m\n",
      "Prompt after formatting:\n",
      "\u001b[32;1m\u001b[1;3m\n",
      "Provide the final summary of the entire book. List out the number of chapters in integral form and mention the most recurring characters in the book.\n",
      "Book:Here is a concise and informative summary of the \"I Have a Dream\" speech by Rev. Martin Luther King Jr.:\n",
      "\n",
      "In this iconic speech, Rev. Martin Luther King Jr. addresses the March on Washington in 1963, calling for an end to racial segregation and discrimination. He notes that 100 years after the Emancipation Proclamation, African Americans are still not free, facing poverty, inequality, and injustice. King urges nonviolent protest and calls for the fulfillment of the promises of the Constitution and Declaration of Independence, emphasizing that all men, black and white, should have equal rights and opportunities. He envisions a future where justice and righteousness prevail, and his famous phrase \"I have a dream\" becomes a rallying cry for the civil rights movement.\n",
      "\n",
      "Here is a concise and informative summary of the speech:\n",
      "\n",
      "In this iconic speech, Martin Luther King Jr. expresses his dream of a future where the United States truly embodies its creed of equality and freedom for all. He envisions a day when people of different races can come together as equals, where children are judged on their character rather than skin color, and where freedom and justice reign across the country. King calls for an end to oppression and racism, and for freedom to ring out from every corner of America, from the mountains of New Hampshire to the hills of Mississippi. He concludes by imagining a future where all people can join hands and sing together, finally free from the shackles of inequality.\n",
      "\u001b[0m\n",
      "\n",
      "\u001b[1m> Finished chain.\u001b[0m\n",
      "\n",
      "\u001b[1m> Finished chain.\u001b[0m\n"
     ]
    },
    {
     "data": {
      "text/plain": [
       "'**Final Summary:**\\nThe \"I Have a Dream\" speech by Rev. Martin Luther King Jr. is a powerful call to action for racial equality and justice, urging an end to segregation and discrimination and envisioning a future where all people, regardless of race, can come together as equals and enjoy freedom and opportunity.\\n\\n**Number of Chapters:** Not applicable, as this is a speech summary, not a book.\\n\\n**Most Recurring Characters:**\\n\\n1. Rev. Martin Luther King Jr. (main speaker and author of the speech)\\n2. None, as this is a speech summary and not a narrative book with characters.'"
      ]
     },
     "execution_count": 37,
     "metadata": {},
     "output_type": "execute_result"
    }
   ],
   "source": [
    "summary_chain=load_summarize_chain(llm=llm,chain_type=\"map_reduce\",map_prompt=map_prompt_template,combine_prompt=final_prompt_template,verbose=True)\n",
    "output=summary_chain.run(book)\n",
    "output"
   ]
  },
  {
   "cell_type": "code",
   "execution_count": 38,
   "id": "b36c52ef",
   "metadata": {},
   "outputs": [
    {
     "name": "stdout",
     "output_type": "stream",
     "text": [
      "\n",
      "\n",
      "\u001b[1m> Entering new RefineDocumentsChain chain...\u001b[0m\n",
      "\n",
      "\n",
      "\u001b[1m> Entering new LLMChain chain...\u001b[0m\n",
      "Prompt after formatting:\n",
      "\u001b[32;1m\u001b[1;3mWrite a concise summary of the following:\n",
      "\n",
      "\n",
      "\"©2014 The Gilder Lehrman Institute of American History \n",
      "www.gilderlehrman.org \n",
      "“I Have a Dream” Speech by the Rev. Martin Luther King Jr. at the “March on Washington,” \n",
      "1963 (excerpts ) \n",
      " \n",
      "I am happy to join with you today in what will go down in history as the greatest demonstration for \n",
      "freedom in the history of our nation. \n",
      "Five score years ago a great American in whose symbolic shadow we stand today signed the \n",
      "Emancipation Proclamation. This momentous decree is a great beacon light of hope to millions of Negro \n",
      "slaves who had been seared in the flames of withering injustice. It came as a joyous daybreak to end the \n",
      "long night of their captivity. But 100 years later the Negro still is not free. One hundred years later the \n",
      "life of the Negro is still badly crippled by the manacles of segregation and the chains of discrimination. \n",
      "One hundred years later the Negro lives on a lonely island of poverty in the midst of a vast ocean of \n",
      "material prosperity. One hundred years later the Negro is still languished in the corners of American \n",
      "society and finds himself in exile in his own land. So we’ve come here today to dramatize a shameful \n",
      "condition. \n",
      "In a sense we’ve come to our nation’s capital to cash a check. When the architects of our Republic wrote \n",
      "the magnificent words of the Constitution and the Declaration of Independence, they were signing a \n",
      "promissory note to which every American was to fall heir. This note was a promise that all men—yes, \n",
      "black men as well as white men—would be guaranteed the unalienable rights of life, liberty and the \n",
      "pursuit of happiness. . . . \n",
      "We must forever conduct our struggle on the high plane of dignity and discipline. We must not allow our \n",
      "creative protests to degenerate into physical violence. . . . The marvelous new militancy which has \n",
      "engulfed the Negro community must not lead us to distrust all white people, for many of our white \n",
      "brothers, as evidenced by their presence here today, have come to realize that their destiny is tied up \n",
      "with our destiny. \n",
      ". . . We cannot walk alone. And as we walk we must make the pledge that we shall always march ahead. \n",
      "We cannot turn back. There are those who are asking the devotees of civil rights, “When will you be \n",
      "satisfied?” We can never be satisfied as long as the Negro is the victim of the unspeakable horrors of \n",
      "police brutality. \n",
      "We can never be satisfied as long as our bodies, heavy with the fatigue of travel, cannot gain lodging in \n",
      "the motels of the highways and the hotels of the cities. \n",
      "We cannot be satisfied as long as the Negro’s basic mobility is from a smaller ghetto to a larger one. We \n",
      "can never be satisfied as long as our children are stripped of their adulthood and robbed of their dignity \n",
      "by signs stating “For Whites Only.” \n",
      "We cannot be satisfied as long as the Negro in Mississippi cannot vote and the Negro in New York \n",
      "believes he has nothing for which to vote. \n",
      "No, no, we are not satisfied, and we will not be satisfied until justice rolls down like waters and \n",
      "righteousness like a mighty stream. . . . \n",
      "I say to you today, my friends, though, even though we face the difficulties of today and tomorrow, I still\"\n",
      "\n",
      "\n",
      "CONCISE SUMMARY:\u001b[0m\n",
      "\n",
      "\u001b[1m> Finished chain.\u001b[0m\n",
      "\n",
      "\n",
      "\u001b[1m> Entering new LLMChain chain...\u001b[0m\n",
      "Prompt after formatting:\n",
      "\u001b[32;1m\u001b[1;3mYour job is to produce a final summary.\n",
      "We have provided an existing summary up to a certain point: Here is a concise summary of Martin Luther King Jr.'s \"I Have a Dream\" speech:\n",
      "\n",
      "In this iconic speech, King highlights the ongoing struggle for African American freedom and equality, 100 years after the Emancipation Proclamation. He argues that despite progress, African Americans still face segregation, discrimination, and poverty. King calls for nonviolent protest and unity among all people, emphasizing that the struggle for civil rights is not just for African Americans, but for the benefit of all Americans. He envisions a future where all people can enjoy equal rights and opportunities, and famously declares, \"I have a dream that my four little children will one day live in a nation where they will not be judged by the color of their skin, but by the content of their character.\"\n",
      "We have the opportunity to refine the existing summary (only if needed) with some more context below.\n",
      "------------\n",
      "©2014 The Gilder Lehrman Institute of American History \n",
      "www.gilderlehrman.org \n",
      "have a dream. It is a dream deeply rooted in the American dream. I have a dream that one day this \n",
      "nation will rise up, live out the true meaning of its creed: “We hold these truths to be self-evident, that \n",
      "all men are created equal.” \n",
      "I have a dream that one day on the red hills of Georgia sons of former slaves and the sons of former \n",
      "slave-owners will be able to sit down together at the table of brotherhood. I have a dream that one day \n",
      "even the state of Mississippi, a state sweltering with the heat of injustice, sweltering with the heat of \n",
      "oppression, will be transformed into an oasis of freedom and justice. \n",
      "I have a dream that my four little children will one day live in a nation where they will not be judged by \n",
      "the color of their skin but by the content of their character. I have a dream . . . I have a dream that one \n",
      "day in Alabama, with its vicious racists, with its governor having his lips dripping with the words of \n",
      "interposition and nullification, one day right there in Alabama little black boys and black girls will be able \n",
      "to join hands with little white boys and white girls as sisters and brothers. \n",
      "I have a dream today . . . \n",
      "This will be the day when all of God’s children will be able to sing with new meaning. “My country, ’tis of \n",
      "thee, sweet land of liberty, of thee I sing. Land where my fathers died, land of the pilgrim’s pride, from \n",
      "every mountain side, let freedom ring.” And if America is to be a great nation, this must become true. So \n",
      "let freedom ring from the prodigious hilltops of New Hampshire. Let freedom ring from the mighty \n",
      "mountains of New York. Let freedom ring from the heightening Alleghenies of Pennsylvania. Let \n",
      "freedom ring from the snowcapped Rockies of Colorado. Let freedom ring from the curvaceous slopes of \n",
      "California. \n",
      "But not only that. Let freedom ring from Stone Mountain of Georgia. Let freedom ring from Lookout \n",
      "Mountain of Tennessee. Let freedom ring from every hill and molehill of Mississippi, from every \n",
      "mountain side. Let freedom ring . . . \n",
      "When we allow freedom to ring—when we let it ring from every city and every hamlet, from every state \n",
      "and every city, we will be able to speed up that day when all of God’s children, black men and white \n",
      "men, Jews and Gentiles, Protestants and Catholics, will be able to join hands and sing in the words of the \n",
      "old Negro spiritual, “Free at last, Free at last, Great God a-mighty, We are free at last.” \n",
      " \n",
      " \n",
      "Reprinted by arrangement with The Heirs to the Estate of Martin Luther King Jr., c/o Writers House as the \n",
      "proprietor New York, NY. Copyright: © 1963 Dr. Martin Luther King Jr. © renewed 1991 Coretta Scott King.\n",
      "------------\n",
      "Given the new context, refine the original summary.\n",
      "If the context isn't useful, return the original summary.\u001b[0m\n",
      "\n",
      "\u001b[1m> Finished chain.\u001b[0m\n",
      "\n",
      "\u001b[1m> Finished chain.\u001b[0m\n"
     ]
    },
    {
     "data": {
      "text/plain": [
       "'Based on the provided context, I have refined the original summary as follows:\\n\\nIn his iconic \"I Have a Dream\" speech, Martin Luther King Jr. emphasizes the ongoing struggle for African American freedom and equality, 100 years after the Emancipation Proclamation. He argues that despite progress, African Americans still face segregation, discrimination, and poverty. King calls for nonviolent protest and unity among all people, emphasizing that the struggle for civil rights is not just for African Americans, but for the benefit of all Americans. He envisions a future where all people can enjoy equal rights and opportunities, and famously declares that he has a dream that one day his children will live in a nation where they will not be judged by the color of their skin, but by the content of their character. King also imagines a future where people of all backgrounds can join hands and sing together, celebrating freedom and equality, and where freedom rings out from every corner of the United States.'"
      ]
     },
     "execution_count": 38,
     "metadata": {},
     "output_type": "execute_result"
    }
   ],
   "source": [
    "summary_chain=load_summarize_chain(llm=llm,chain_type=\"refine\",verbose=True)\n",
    "output=summary_chain.run(book)\n",
    "output"
   ]
  },
  {
   "cell_type": "code",
   "execution_count": null,
   "id": "e4eb1a57",
   "metadata": {},
   "outputs": [],
   "source": []
  },
  {
   "cell_type": "code",
   "execution_count": null,
   "id": "8e2eb552",
   "metadata": {},
   "outputs": [],
   "source": []
  },
  {
   "cell_type": "code",
   "execution_count": null,
   "id": "89ff664d",
   "metadata": {},
   "outputs": [],
   "source": []
  },
  {
   "cell_type": "code",
   "execution_count": null,
   "id": "6a9809db",
   "metadata": {},
   "outputs": [],
   "source": []
  },
  {
   "cell_type": "code",
   "execution_count": null,
   "id": "2a2f8682",
   "metadata": {},
   "outputs": [],
   "source": []
  },
  {
   "cell_type": "code",
   "execution_count": null,
   "id": "fc6feaeb",
   "metadata": {},
   "outputs": [],
   "source": []
  },
  {
   "cell_type": "code",
   "execution_count": null,
   "id": "9f675cbf",
   "metadata": {},
   "outputs": [],
   "source": []
  },
  {
   "cell_type": "code",
   "execution_count": null,
   "id": "83417444",
   "metadata": {},
   "outputs": [],
   "source": []
  },
  {
   "cell_type": "code",
   "execution_count": null,
   "id": "46d49dd6",
   "metadata": {},
   "outputs": [],
   "source": []
  },
  {
   "cell_type": "code",
   "execution_count": null,
   "id": "7d80e262",
   "metadata": {},
   "outputs": [],
   "source": []
  },
  {
   "cell_type": "code",
   "execution_count": null,
   "id": "e1e1cb38",
   "metadata": {},
   "outputs": [],
   "source": []
  },
  {
   "cell_type": "code",
   "execution_count": null,
   "id": "ae1972ed",
   "metadata": {},
   "outputs": [],
   "source": []
  }
 ],
 "metadata": {
  "kernelspec": {
   "display_name": "summariser",
   "language": "python",
   "name": "python3"
  },
  "language_info": {
   "codemirror_mode": {
    "name": "ipython",
    "version": 3
   },
   "file_extension": ".py",
   "mimetype": "text/x-python",
   "name": "python",
   "nbconvert_exporter": "python",
   "pygments_lexer": "ipython3",
   "version": "3.12.7"
  }
 },
 "nbformat": 4,
 "nbformat_minor": 5
}
